{
 "cells": [
  {
   "cell_type": "code",
   "execution_count": 2,
   "id": "53362254",
   "metadata": {},
   "outputs": [],
   "source": [
    "import pandas as pd\n",
    "import numpy as np\n",
    "from matplotlib import pyplot as plt\n",
    "%matplotlib inline\n"
   ]
  },
  {
   "cell_type": "code",
   "execution_count": 3,
   "id": "0cc4a864",
   "metadata": {},
   "outputs": [],
   "source": [
    "data_Latih = pd.read_excel('aalatih.xlsx')"
   ]
  },
  {
   "cell_type": "code",
   "execution_count": 4,
   "id": "a744f888",
   "metadata": {},
   "outputs": [],
   "source": [
    "df = pd.DataFrame(data_Latih)\n",
    "selected_columns = ['Titik_1_PSI','Titik_2_PSI']  # Kolom yang ingin diambil\n",
    "x = df[selected_columns]\n",
    "\n",
    "out_cols = data_Latih['Lokasi_Kebocoran']\n",
    "y = out_cols"
   ]
  },
  {
   "cell_type": "code",
   "execution_count": 5,
   "id": "1ee0f359",
   "metadata": {},
   "outputs": [
    {
     "data": {
      "text/html": [
       "<div>\n",
       "<style scoped>\n",
       "    .dataframe tbody tr th:only-of-type {\n",
       "        vertical-align: middle;\n",
       "    }\n",
       "\n",
       "    .dataframe tbody tr th {\n",
       "        vertical-align: top;\n",
       "    }\n",
       "\n",
       "    .dataframe thead th {\n",
       "        text-align: right;\n",
       "    }\n",
       "</style>\n",
       "<table border=\"1\" class=\"dataframe\">\n",
       "  <thead>\n",
       "    <tr style=\"text-align: right;\">\n",
       "      <th></th>\n",
       "      <th>Titik_1_PSI</th>\n",
       "      <th>Titik_2_PSI</th>\n",
       "    </tr>\n",
       "  </thead>\n",
       "  <tbody>\n",
       "    <tr>\n",
       "      <th>0</th>\n",
       "      <td>137.7880</td>\n",
       "      <td>89.9248</td>\n",
       "    </tr>\n",
       "    <tr>\n",
       "      <th>1</th>\n",
       "      <td>136.3376</td>\n",
       "      <td>87.0240</td>\n",
       "    </tr>\n",
       "    <tr>\n",
       "      <th>2</th>\n",
       "      <td>137.7880</td>\n",
       "      <td>84.1232</td>\n",
       "    </tr>\n",
       "    <tr>\n",
       "      <th>3</th>\n",
       "      <td>134.8872</td>\n",
       "      <td>88.4744</td>\n",
       "    </tr>\n",
       "    <tr>\n",
       "      <th>4</th>\n",
       "      <td>137.7880</td>\n",
       "      <td>88.4744</td>\n",
       "    </tr>\n",
       "    <tr>\n",
       "      <th>...</th>\n",
       "      <td>...</td>\n",
       "      <td>...</td>\n",
       "    </tr>\n",
       "    <tr>\n",
       "      <th>220</th>\n",
       "      <td>134.0000</td>\n",
       "      <td>81.7000</td>\n",
       "    </tr>\n",
       "    <tr>\n",
       "      <th>221</th>\n",
       "      <td>134.0000</td>\n",
       "      <td>81.8000</td>\n",
       "    </tr>\n",
       "    <tr>\n",
       "      <th>222</th>\n",
       "      <td>135.0000</td>\n",
       "      <td>82.0000</td>\n",
       "    </tr>\n",
       "    <tr>\n",
       "      <th>223</th>\n",
       "      <td>135.0000</td>\n",
       "      <td>82.5000</td>\n",
       "    </tr>\n",
       "    <tr>\n",
       "      <th>224</th>\n",
       "      <td>135.0000</td>\n",
       "      <td>82.6000</td>\n",
       "    </tr>\n",
       "  </tbody>\n",
       "</table>\n",
       "<p>225 rows × 2 columns</p>\n",
       "</div>"
      ],
      "text/plain": [
       "     Titik_1_PSI  Titik_2_PSI\n",
       "0       137.7880      89.9248\n",
       "1       136.3376      87.0240\n",
       "2       137.7880      84.1232\n",
       "3       134.8872      88.4744\n",
       "4       137.7880      88.4744\n",
       "..           ...          ...\n",
       "220     134.0000      81.7000\n",
       "221     134.0000      81.8000\n",
       "222     135.0000      82.0000\n",
       "223     135.0000      82.5000\n",
       "224     135.0000      82.6000\n",
       "\n",
       "[225 rows x 2 columns]"
      ]
     },
     "execution_count": 5,
     "metadata": {},
     "output_type": "execute_result"
    }
   ],
   "source": [
    "x"
   ]
  },
  {
   "cell_type": "code",
   "execution_count": 6,
   "id": "1abec708",
   "metadata": {},
   "outputs": [
    {
     "data": {
      "text/plain": [
       "0      26.42\n",
       "1      26.42\n",
       "2      26.42\n",
       "3      26.42\n",
       "4      26.42\n",
       "       ...  \n",
       "220    23.60\n",
       "221    23.60\n",
       "222    23.60\n",
       "223    23.60\n",
       "224    23.60\n",
       "Name: Lokasi_Kebocoran, Length: 225, dtype: float64"
      ]
     },
     "execution_count": 6,
     "metadata": {},
     "output_type": "execute_result"
    }
   ],
   "source": [
    "y"
   ]
  },
  {
   "cell_type": "code",
   "execution_count": 7,
   "id": "1af5b63f",
   "metadata": {},
   "outputs": [],
   "source": [
    "from sklearn.model_selection import train_test_split\n",
    "x_train,x_test,y_train,y_test=train_test_split(x,y,test_size=0.30,random_state=0)\n"
   ]
  },
  {
   "cell_type": "code",
   "execution_count": 8,
   "id": "214e0a5d",
   "metadata": {},
   "outputs": [
    {
     "name": "stdout",
     "output_type": "stream",
     "text": [
      "[26.42       26.42       23.788      25.13       26.42        0.\n",
      " 26.42       26.42       23.788      26.42       26.42       26.42\n",
      " 26.42       26.42       26.42       26.42       26.42       26.42\n",
      "  0.         26.42       26.42       26.42       25.13       26.15\n",
      " 26.42       26.42       26.42        0.          4.12833333 23.788\n",
      " 26.42       26.42       26.42        0.         26.42       26.42\n",
      "  4.12833333 26.42       26.42       26.42       26.15       26.42\n",
      " 26.42       26.42        0.         25.13       25.13       26.42\n",
      " 26.42       23.788      25.13       26.42       25.13       26.42\n",
      " 25.13       26.42       26.42       26.42       26.42       23.788\n",
      "  0.         23.788      26.42       26.42       26.42        0.\n",
      "  0.          0.        ]\n"
     ]
    }
   ],
   "source": [
    "from sklearn.tree import DecisionTreeRegressor\n",
    "Dc = DecisionTreeRegressor(max_depth=3, random_state=30) \n",
    "Dc.fit(x_train, y_train)\n",
    "predictions_D3 = Dc.predict(x_test)\n",
    "print(predictions_D3)"
   ]
  },
  {
   "cell_type": "code",
   "execution_count": 9,
   "id": "09843cac",
   "metadata": {},
   "outputs": [
    {
     "name": "stdout",
     "output_type": "stream",
     "text": [
      "MAE:0.654824 %\n",
      "MSE: 13.261318669934631 %\n",
      "RMSE: 3.6416093516376287 %\n",
      "accuracy: 99.34517647058821 %\n"
     ]
    }
   ],
   "source": [
    "from sklearn.metrics import mean_absolute_error\n",
    "mae_D3=mean_absolute_error(y_test,predictions_D3)\n",
    "print('MAE:%f'%mae_D3, \"%\")\n",
    "from sklearn.metrics import mean_squared_error\n",
    "mse_D3 = mean_squared_error(y_test, predictions_D3)\n",
    "print(\"MSE:\", mse_D3, \"%\")\n",
    "rmse_D3 = np.sqrt(mse_D3)\n",
    "print(\"RMSE:\", rmse_D3, \"%\")\n",
    "acc_D3 = ((100 - mae_D3))\n",
    "print(\"accuracy:\", acc_D3, \"%\")"
   ]
  },
  {
   "cell_type": "code",
   "execution_count": 10,
   "id": "188eb511",
   "metadata": {},
   "outputs": [],
   "source": [
    "import pickle"
   ]
  },
  {
   "cell_type": "code",
   "execution_count": 11,
   "id": "012fa455",
   "metadata": {},
   "outputs": [],
   "source": [
    "filename='Pred_lokasi11.sav'\n",
    "pickle.dump(Dc,open(filename,'wb'))"
   ]
  },
  {
   "cell_type": "code",
   "execution_count": null,
   "id": "794b1a36",
   "metadata": {},
   "outputs": [],
   "source": []
  }
 ],
 "metadata": {
  "kernelspec": {
   "display_name": "Python 3 (ipykernel)",
   "language": "python",
   "name": "python3"
  },
  "language_info": {
   "codemirror_mode": {
    "name": "ipython",
    "version": 3
   },
   "file_extension": ".py",
   "mimetype": "text/x-python",
   "name": "python",
   "nbconvert_exporter": "python",
   "pygments_lexer": "ipython3",
   "version": "3.10.2"
  }
 },
 "nbformat": 4,
 "nbformat_minor": 5
}
